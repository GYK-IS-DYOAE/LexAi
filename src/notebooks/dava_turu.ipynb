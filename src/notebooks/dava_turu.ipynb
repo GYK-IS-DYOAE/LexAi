{
 "cells": [
  {
   "cell_type": "code",
   "execution_count": 2,
   "id": "73691141",
   "metadata": {},
   "outputs": [],
   "source": [
    "import pandas as pd\n",
    "import json"
   ]
  },
  {
   "cell_type": "code",
   "execution_count": 31,
   "id": "90bd624f",
   "metadata": {},
   "outputs": [],
   "source": [
    "df = pd.read_json(r\"C:\\Users\\zeyne\\Desktop\\LexAi\\data\\interim\\02_extract_llm.jsonl\", lines=True)\n"
   ]
  },
  {
   "cell_type": "code",
   "execution_count": 32,
   "id": "8c9013dc",
   "metadata": {},
   "outputs": [
    {
     "data": {
      "text/html": [
       "<div>\n",
       "<style scoped>\n",
       "    .dataframe tbody tr th:only-of-type {\n",
       "        vertical-align: middle;\n",
       "    }\n",
       "\n",
       "    .dataframe tbody tr th {\n",
       "        vertical-align: top;\n",
       "    }\n",
       "\n",
       "    .dataframe thead th {\n",
       "        text-align: right;\n",
       "    }\n",
       "</style>\n",
       "<table border=\"1\" class=\"dataframe\">\n",
       "  <thead>\n",
       "    <tr style=\"text-align: right;\">\n",
       "      <th></th>\n",
       "      <th>Id</th>\n",
       "      <th>output</th>\n",
       "    </tr>\n",
       "  </thead>\n",
       "  <tbody>\n",
       "    <tr>\n",
       "      <th>0</th>\n",
       "      <td>1</td>\n",
       "      <td>{'dava_turu': 'tesis kadastrosuna itiraz', 'ta...</td>\n",
       "    </tr>\n",
       "    <tr>\n",
       "      <th>1</th>\n",
       "      <td>2</td>\n",
       "      <td>{'dava_turu': 'şirketin feshi', 'taraf_iliskis...</td>\n",
       "    </tr>\n",
       "    <tr>\n",
       "      <th>2</th>\n",
       "      <td>3</td>\n",
       "      <td>{'dava_turu': 'korunma kararı', 'taraf_iliskis...</td>\n",
       "    </tr>\n",
       "    <tr>\n",
       "      <th>3</th>\n",
       "      <td>4</td>\n",
       "      <td>{'dava_turu': 'alacak', 'taraf_iliskisi': 'dav...</td>\n",
       "    </tr>\n",
       "    <tr>\n",
       "      <th>4</th>\n",
       "      <td>5</td>\n",
       "      <td>{'dava_turu': 'ziynet alacağı', 'taraf_iliskis...</td>\n",
       "    </tr>\n",
       "    <tr>\n",
       "      <th>...</th>\n",
       "      <td>...</td>\n",
       "      <td>...</td>\n",
       "    </tr>\n",
       "    <tr>\n",
       "      <th>79454</th>\n",
       "      <td>76928</td>\n",
       "      <td>{'dava_turu': 'ceza', 'taraf_iliskisi': 'sanık...</td>\n",
       "    </tr>\n",
       "    <tr>\n",
       "      <th>79455</th>\n",
       "      <td>9048</td>\n",
       "      <td>{'dava_turu': 'İcra', 'taraf_iliskisi': 'Davac...</td>\n",
       "    </tr>\n",
       "    <tr>\n",
       "      <th>79456</th>\n",
       "      <td>9617</td>\n",
       "      <td>{'dava_turu': 'kamulaştırmasız_el_atma', 'tara...</td>\n",
       "    </tr>\n",
       "    <tr>\n",
       "      <th>79457</th>\n",
       "      <td>9721</td>\n",
       "      <td>{'dava_turu': 'tanıma ve tenfiz', 'taraf_ilisk...</td>\n",
       "    </tr>\n",
       "    <tr>\n",
       "      <th>79458</th>\n",
       "      <td>47349</td>\n",
       "      <td>{'dava_turu': 'Ceza', 'taraf_iliskisi': 'Sanık...</td>\n",
       "    </tr>\n",
       "  </tbody>\n",
       "</table>\n",
       "<p>79459 rows × 2 columns</p>\n",
       "</div>"
      ],
      "text/plain": [
       "          Id                                             output\n",
       "0          1  {'dava_turu': 'tesis kadastrosuna itiraz', 'ta...\n",
       "1          2  {'dava_turu': 'şirketin feshi', 'taraf_iliskis...\n",
       "2          3  {'dava_turu': 'korunma kararı', 'taraf_iliskis...\n",
       "3          4  {'dava_turu': 'alacak', 'taraf_iliskisi': 'dav...\n",
       "4          5  {'dava_turu': 'ziynet alacağı', 'taraf_iliskis...\n",
       "...      ...                                                ...\n",
       "79454  76928  {'dava_turu': 'ceza', 'taraf_iliskisi': 'sanık...\n",
       "79455   9048  {'dava_turu': 'İcra', 'taraf_iliskisi': 'Davac...\n",
       "79456   9617  {'dava_turu': 'kamulaştırmasız_el_atma', 'tara...\n",
       "79457   9721  {'dava_turu': 'tanıma ve tenfiz', 'taraf_ilisk...\n",
       "79458  47349  {'dava_turu': 'Ceza', 'taraf_iliskisi': 'Sanık...\n",
       "\n",
       "[79459 rows x 2 columns]"
      ]
     },
     "execution_count": 32,
     "metadata": {},
     "output_type": "execute_result"
    }
   ],
   "source": [
    "df"
   ]
  },
  {
   "cell_type": "code",
   "execution_count": 33,
   "id": "545f1f3b",
   "metadata": {},
   "outputs": [
    {
     "name": "stdout",
     "output_type": "stream",
     "text": [
      "Index(['dava_turu', 'taraf_iliskisi', 'sonuc', 'karar', 'gerekce',\n",
      "       'metin_esas_no', 'metin_karar_no', 'kanun_atiflari', 'deliller',\n",
      "       'talepler', 'gecici_tedbirler', 'basvuru_yolu', 'onemli_tarihler',\n",
      "       'adimlar', 'hikaye'],\n",
      "      dtype='object')\n"
     ]
    }
   ],
   "source": [
    "df_output = pd.json_normalize(df[\"output\"].tolist())\n",
    "print(df_output.columns)"
   ]
  },
  {
   "cell_type": "code",
   "execution_count": 34,
   "id": "091d3d65",
   "metadata": {},
   "outputs": [
    {
     "name": "stdout",
     "output_type": "stream",
     "text": [
      "<class 'pandas.core.frame.DataFrame'>\n"
     ]
    }
   ],
   "source": [
    "print(type(df_output))"
   ]
  },
  {
   "cell_type": "code",
   "execution_count": null,
   "id": "b6bfb722",
   "metadata": {},
   "outputs": [],
   "source": [
    "df_output[\"dava_turu\"].to_csv(r\"C:\\Users\\zeyne\\Desktop\\LexAi\\data\\interim\\dava_turu.csv\")"
   ]
  },
  {
   "cell_type": "code",
   "execution_count": 51,
   "id": "3a1f75d2",
   "metadata": {},
   "outputs": [],
   "source": [
    "df_output[\"dava_turu\"] = df_output[\"dava_turu\"].str.lower()"
   ]
  },
  {
   "cell_type": "code",
   "execution_count": 52,
   "id": "f4ac544e",
   "metadata": {},
   "outputs": [
    {
     "name": "stdout",
     "output_type": "stream",
     "text": [
      "3232\n"
     ]
    }
   ],
   "source": [
    "unique_turler = df_output[\"dava_turu\"].dropna().unique()\n",
    "print(len(unique_turler))\n"
   ]
  },
  {
   "cell_type": "code",
   "execution_count": 53,
   "id": "d0cd8343",
   "metadata": {},
   "outputs": [],
   "source": [
    "unique_df = pd.DataFrame(unique_turler, columns=[\"dava_turu\"])"
   ]
  },
  {
   "cell_type": "code",
   "execution_count": 56,
   "id": "eaa47625",
   "metadata": {},
   "outputs": [],
   "source": [
    "unique_df.to_csv(r\"C:\\Users\\zeyne\\Desktop\\LexAi\\data\\interim\\unique_dava_turleri.csv\", header=['adet'])"
   ]
  },
  {
   "cell_type": "code",
   "execution_count": 54,
   "id": "cf848d64",
   "metadata": {},
   "outputs": [
    {
     "data": {
      "text/plain": [
       "dava_turu\n",
       "alacak                                                      8980\n",
       "tazminat                                                    4920\n",
       "hukuk                                                       4032\n",
       "kamulaştırma                                                4010\n",
       "tapu iptali ve tescil                                       3516\n",
       "                                                            ... \n",
       "mülkiyet hakkına dayalı elatmanın önlenmesi ve ecrimisil       1\n",
       "elatmanın önlenmesi ve alacak davası                           1\n",
       "teminat mektubunun iadesi ve cezai şart alacağı                1\n",
       "miras taksim sözleşmesi                                        1\n",
       "yersiz ödeme istirdadı                                         1\n",
       "Name: count, Length: 3232, dtype: int64"
      ]
     },
     "execution_count": 54,
     "metadata": {},
     "output_type": "execute_result"
    }
   ],
   "source": [
    "counts = df_output['dava_turu'].value_counts()\n",
    "counts"
   ]
  },
  {
   "cell_type": "code",
   "execution_count": 55,
   "id": "0a35f631",
   "metadata": {},
   "outputs": [],
   "source": [
    "counts.to_csv(r\"C:\\Users\\zeyne\\Desktop\\LexAi\\data\\interim\\dava_turu.csv\", header=['adet'])"
   ]
  }
 ],
 "metadata": {
  "kernelspec": {
   "display_name": "Python 3",
   "language": "python",
   "name": "python3"
  },
  "language_info": {
   "codemirror_mode": {
    "name": "ipython",
    "version": 3
   },
   "file_extension": ".py",
   "mimetype": "text/x-python",
   "name": "python",
   "nbconvert_exporter": "python",
   "pygments_lexer": "ipython3",
   "version": "3.13.2"
  }
 },
 "nbformat": 4,
 "nbformat_minor": 5
}
